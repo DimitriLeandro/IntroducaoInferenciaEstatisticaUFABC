{
 "cells": [
  {
   "cell_type": "code",
   "execution_count": 68,
   "metadata": {},
   "outputs": [],
   "source": [
    "import pandas as pd\n",
    "import numpy as np\n",
    "import warnings\n",
    "from scipy import stats\n",
    "from plotly import graph_objects as go\n",
    "\n",
    "warnings.filterwarnings('ignore')"
   ]
  },
  {
   "cell_type": "code",
   "execution_count": 69,
   "metadata": {},
   "outputs": [],
   "source": [
    "df_refri_total = pd.read_csv('data/refrigerante_total_2009_2019.csv')\n",
    "df_refri_sexo  = pd.read_csv('data/refrigerante_sexo_2019.csv')\n",
    "df_refri_admin = pd.read_csv('data/refrigerante_administracao_2019.csv')\n",
    "df_gulo_total  = pd.read_csv('data/guloseimas_total_2019.csv')\n",
    "df_legum_total = pd.read_csv('data/legumes_total_2019.csv')"
   ]
  },
  {
   "cell_type": "code",
   "execution_count": null,
   "metadata": {},
   "outputs": [],
   "source": []
  },
  {
   "cell_type": "code",
   "execution_count": null,
   "metadata": {},
   "outputs": [],
   "source": []
  },
  {
   "cell_type": "code",
   "execution_count": null,
   "metadata": {},
   "outputs": [],
   "source": []
  },
  {
   "cell_type": "markdown",
   "metadata": {},
   "source": [
    "### Parte 1: Normalidade\n"
   ]
  },
  {
   "cell_type": "code",
   "execution_count": 70,
   "metadata": {},
   "outputs": [],
   "source": [
    "def plot_distributions(gen_locs, gen_labels):\n",
    "    fig = go.Figure()\n",
    "    \n",
    "    for i, (df_plot, label) in enumerate(zip(gen_locs, gen_labels)):\n",
    "        \n",
    "        df_plot.reset_index(drop=True, inplace=True)\n",
    "\n",
    "        shapiro_pval = stats.shapiro(df_plot['percentual']).pvalue\n",
    "\n",
    "        label += ' (p-val: {:.2f})'.format(shapiro_pval)\n",
    "\n",
    "        fig.add_trace(\n",
    "            go.Violin(\n",
    "                x                = np.ones(df_plot.shape[0]) * i,\n",
    "                y                = df_plot['percentual'],\n",
    "                name             = label,\n",
    "                box_visible      = True,\n",
    "            )\n",
    "        )\n",
    "\n",
    "    fig.update_layout(\n",
    "        width       = 1100,\n",
    "        height      = 600,\n",
    "        yaxis_title = 'Consumo (%)',\n",
    "        yaxis       = dict(range=[0, 60]),\n",
    "        xaxis       = dict(tickvals=[]),\n",
    "        legend      = dict(\n",
    "            orientation = 'h',\n",
    "            yanchor     = 'bottom',\n",
    "            x           = 0,\n",
    "            y           = -0.3\n",
    "        )\n",
    "    )\n",
    "\n",
    "    fig.write_image('results/distributions.pdf', engine='kaleido')\n",
    "    fig.show()"
   ]
  },
  {
   "cell_type": "code",
   "execution_count": 71,
   "metadata": {},
   "outputs": [
    {
     "data": {
      "application/vnd.plotly.v1+json": {
       "config": {
        "plotlyServerURL": "https://plot.ly"
       },
       "data": [
        {
         "box": {
          "visible": true
         },
         "name": "Refrigerante: Total em 2009 (p-val: 0.89)",
         "type": "violin",
         "x": [
          0,
          0,
          0,
          0,
          0,
          0,
          0,
          0,
          0,
          0,
          0,
          0,
          0,
          0,
          0,
          0,
          0,
          0,
          0,
          0,
          0,
          0,
          0,
          0,
          0,
          0,
          0
         ],
         "y": [
          43.5117102807295,
          40.8339107249211,
          34.8833414354635,
          38.4442231655316,
          32.3005588420758,
          36.1278385663969,
          32.0336974518384,
          25.0128614974695,
          26.7331039199095,
          31.6125631667797,
          25.2830382559226,
          28.1594194644937,
          39.2657773951312,
          31.4601823567339,
          34.0391655913476,
          31.8359707179176,
          36.974685410189,
          36.1854824169049,
          42.5501831585333,
          39.467772534624,
          36.2627638873031,
          33.6137773933963,
          40.7911193933232,
          35.9860551940275,
          46.1743285632521,
          38.0997671510367,
          31.3851358185003
         ]
        },
        {
         "box": {
          "visible": true
         },
         "name": "Refrigerante: Total em 2019 (p-val: 0.37)",
         "type": "violin",
         "x": [
          1,
          1,
          1,
          1,
          1,
          1,
          1,
          1,
          1,
          1,
          1,
          1,
          1,
          1,
          1,
          1,
          1,
          1,
          1,
          1,
          1,
          1,
          1,
          1,
          1,
          1,
          1
         ],
         "y": [
          19.8375945644766,
          17.282897287041,
          16.5477418646986,
          20.6975458310524,
          15.9062716555132,
          15.4621001985118,
          20.0549296246163,
          14.5411243808696,
          12.1778497613595,
          20.0538865811066,
          12.6204250750863,
          12.7720732522962,
          23.5547088613518,
          18.5834916722248,
          13.0809746537314,
          13.0658954621173,
          18.6159634892487,
          14.5215636841703,
          20.4093227297813,
          20.765235672307,
          17.3242717538775,
          15.4011014385322,
          22.8199720310619,
          25.3032169248689,
          22.3571171006843,
          25.9166775340013,
          18.835700723621
         ]
        },
        {
         "box": {
          "visible": true
         },
         "name": "Refrigerante: Público Masculino em 2019 (p-val: 0.37)",
         "type": "violin",
         "x": [
          2,
          2,
          2,
          2,
          2,
          2,
          2,
          2,
          2,
          2,
          2,
          2,
          2,
          2,
          2,
          2,
          2,
          2,
          2,
          2,
          2,
          2,
          2,
          2,
          2,
          2,
          2
         ],
         "y": [
          17.9775902139058,
          25.0857013158409,
          22.0358141835402,
          20.6028251820296,
          14.3268726278229,
          17.8252133638085,
          19.8077120932294,
          14.0018070030889,
          13.5502130458196,
          16.8782752696771,
          11.8763921898304,
          11.949895504584,
          24.1223817867446,
          13.5393786690876,
          10.2835065255859,
          15.9350518216249,
          19.7122368441523,
          15.279746302311,
          21.1965139870973,
          20.1997911415174,
          22.1710028727205,
          12.3472211931042,
          25.0850954288538,
          24.1897831478154,
          24.174911643112,
          27.8688836347168,
          21.2492797742589
         ]
        },
        {
         "box": {
          "visible": true
         },
         "name": "Refrigerante: Público Feminino em 2019 (p-val: 0.28)",
         "type": "violin",
         "x": [
          3,
          3,
          3,
          3,
          3,
          3,
          3,
          3,
          3,
          3,
          3,
          3,
          3,
          3,
          3,
          3,
          3,
          3,
          3,
          3,
          3,
          3,
          3,
          3,
          3,
          3,
          3
         ],
         "y": [
          21.4868395326801,
          9.65948338424076,
          10.794760470367,
          20.7967263625383,
          17.554317432905,
          13.2724916698016,
          20.2675454980923,
          15.0906322017073,
          10.7086464622079,
          23.23731500015,
          13.4384263080062,
          13.6304069493513,
          22.9804463603764,
          23.3663219118648,
          15.9400210007346,
          10.131883078891,
          17.6215776802171,
          13.7132246301981,
          19.4379421633632,
          21.2152981433711,
          12.4193163850624,
          18.1287324369568,
          20.910275711751,
          26.2193277445227,
          20.5886170686723,
          23.8550714087836,
          16.4411319852413
         ]
        },
        {
         "box": {
          "visible": true
         },
         "name": "Refrigerante: Administração Pública em 2019 (p-val: 0.55)",
         "type": "violin",
         "x": [
          4,
          4,
          4,
          4,
          4,
          4,
          4,
          4,
          4,
          4,
          4,
          4,
          4,
          4,
          4,
          4,
          4,
          4,
          4,
          4,
          4,
          4,
          4,
          4,
          4,
          4,
          4
         ],
         "y": [
          20.4264048857871,
          17.6005774954179,
          16.8811966761739,
          21.4801418507398,
          13.3319598915972,
          15.6021330570621,
          20.906660595145,
          15.3849348149212,
          11.7279489961182,
          20.8429814432983,
          14.2626353327579,
          12.359186305026,
          26.4601407263139,
          16.4071386766565,
          15.792840441409,
          14.4245768809303,
          20.2520507060943,
          15.3827085468531,
          21.6019036017067,
          21.4123650392364,
          17.6047244492403,
          18.4962018367028,
          22.6222245205776,
          26.8871371974718,
          23.4611063697924,
          25.1888781940692,
          20.1382181012347
         ]
        },
        {
         "box": {
          "visible": true
         },
         "name": "Refrigerante: Administração Privada em 2019 (p-val: 0.48)",
         "type": "violin",
         "x": [
          5,
          5,
          5,
          5,
          5,
          5,
          5,
          5,
          5,
          5,
          5,
          5,
          5,
          5,
          5,
          5,
          5,
          5,
          5,
          5,
          5,
          5,
          5,
          5,
          5,
          5,
          5
         ],
         "y": [
          16.5235227030495,
          14.3035145622463,
          13.9311445320505,
          13.4423578053642,
          22.1019172539921,
          14.5001341003393,
          16.4413961376427,
          12.4675042918726,
          12.9831075512912,
          18.6121287424689,
          10.0165269256035,
          13.4189203402697,
          17.4543609363798,
          21.8961584390085,
          10.2454919439408,
          9.90075013665694,
          14.2817666020271,
          12.9216211456663,
          18.5153632161937,
          18.797608667767,
          16.5372839352771,
          8.76350207328716,
          23.2724216154088,
          17.7438027060775,
          19.3072136452718,
          27.1487139561331,
          14.86545192895
         ]
        },
        {
         "box": {
          "visible": true
         },
         "name": "Guloseimas: Total em 2019 (p-val: 0.20)",
         "type": "violin",
         "x": [
          6,
          6,
          6,
          6,
          6,
          6,
          6,
          6,
          6,
          6,
          6,
          6,
          6,
          6,
          6,
          6,
          6,
          6,
          6,
          6,
          6,
          6,
          6,
          6,
          6,
          6,
          6
         ],
         "y": [
          31.9854078855567,
          42.9400058766549,
          35.3902161031927,
          32.0864740550787,
          29.4816900306819,
          29.5575165023494,
          32.5681793013733,
          27.6057914878872,
          29.8418336021827,
          36.0213918071175,
          35.8257968268802,
          31.1613398455614,
          37.0591330766296,
          38.7614390284701,
          33.8381855710683,
          31.3087443407046,
          34.2596666243531,
          28.7368999641006,
          30.0030725564579,
          43.0126908952489,
          34.5295075598554,
          33.2925467728243,
          27.2561694498207,
          42.4474960249496,
          35.0816578692295,
          39.2985047522164,
          40.454019104299
         ]
        },
        {
         "box": {
          "visible": true
         },
         "name": "Legumes: Total em 2019 (p-val: 0.42)",
         "type": "violin",
         "x": [
          7,
          7,
          7,
          7,
          7,
          7,
          7,
          7,
          7,
          7,
          7,
          7,
          7,
          7,
          7,
          7,
          7,
          7,
          7,
          7,
          7,
          7,
          7,
          7,
          7,
          7,
          7
         ],
         "y": [
          29.9065299043489,
          25.6623537887046,
          33.9372939898697,
          34.344741396955,
          19.222291313521,
          32.9319736208338,
          29.1422616258485,
          24.3182939762688,
          33.3019943362592,
          21.3337128179276,
          28.3118020549096,
          26.1397645304395,
          23.7897663778745,
          29.0156978457914,
          28.6657288043979,
          19.2031115866902,
          43.981325656047,
          34.4893329460489,
          26.5049690869816,
          31.2428819247536,
          32.3539387279087,
          32.0222994113499,
          31.0636672181416,
          31.6142661301337,
          34.1231654177834,
          37.0894312812119,
          31.6765177719064
         ]
        }
       ],
       "layout": {
        "height": 600,
        "legend": {
         "orientation": "h",
         "x": 0,
         "y": -0.3,
         "yanchor": "bottom"
        },
        "template": {
         "data": {
          "bar": [
           {
            "error_x": {
             "color": "#2a3f5f"
            },
            "error_y": {
             "color": "#2a3f5f"
            },
            "marker": {
             "line": {
              "color": "#E5ECF6",
              "width": 0.5
             },
             "pattern": {
              "fillmode": "overlay",
              "size": 10,
              "solidity": 0.2
             }
            },
            "type": "bar"
           }
          ],
          "barpolar": [
           {
            "marker": {
             "line": {
              "color": "#E5ECF6",
              "width": 0.5
             },
             "pattern": {
              "fillmode": "overlay",
              "size": 10,
              "solidity": 0.2
             }
            },
            "type": "barpolar"
           }
          ],
          "carpet": [
           {
            "aaxis": {
             "endlinecolor": "#2a3f5f",
             "gridcolor": "white",
             "linecolor": "white",
             "minorgridcolor": "white",
             "startlinecolor": "#2a3f5f"
            },
            "baxis": {
             "endlinecolor": "#2a3f5f",
             "gridcolor": "white",
             "linecolor": "white",
             "minorgridcolor": "white",
             "startlinecolor": "#2a3f5f"
            },
            "type": "carpet"
           }
          ],
          "choropleth": [
           {
            "colorbar": {
             "outlinewidth": 0,
             "ticks": ""
            },
            "type": "choropleth"
           }
          ],
          "contour": [
           {
            "colorbar": {
             "outlinewidth": 0,
             "ticks": ""
            },
            "colorscale": [
             [
              0,
              "#0d0887"
             ],
             [
              0.1111111111111111,
              "#46039f"
             ],
             [
              0.2222222222222222,
              "#7201a8"
             ],
             [
              0.3333333333333333,
              "#9c179e"
             ],
             [
              0.4444444444444444,
              "#bd3786"
             ],
             [
              0.5555555555555556,
              "#d8576b"
             ],
             [
              0.6666666666666666,
              "#ed7953"
             ],
             [
              0.7777777777777778,
              "#fb9f3a"
             ],
             [
              0.8888888888888888,
              "#fdca26"
             ],
             [
              1,
              "#f0f921"
             ]
            ],
            "type": "contour"
           }
          ],
          "contourcarpet": [
           {
            "colorbar": {
             "outlinewidth": 0,
             "ticks": ""
            },
            "type": "contourcarpet"
           }
          ],
          "heatmap": [
           {
            "colorbar": {
             "outlinewidth": 0,
             "ticks": ""
            },
            "colorscale": [
             [
              0,
              "#0d0887"
             ],
             [
              0.1111111111111111,
              "#46039f"
             ],
             [
              0.2222222222222222,
              "#7201a8"
             ],
             [
              0.3333333333333333,
              "#9c179e"
             ],
             [
              0.4444444444444444,
              "#bd3786"
             ],
             [
              0.5555555555555556,
              "#d8576b"
             ],
             [
              0.6666666666666666,
              "#ed7953"
             ],
             [
              0.7777777777777778,
              "#fb9f3a"
             ],
             [
              0.8888888888888888,
              "#fdca26"
             ],
             [
              1,
              "#f0f921"
             ]
            ],
            "type": "heatmap"
           }
          ],
          "heatmapgl": [
           {
            "colorbar": {
             "outlinewidth": 0,
             "ticks": ""
            },
            "colorscale": [
             [
              0,
              "#0d0887"
             ],
             [
              0.1111111111111111,
              "#46039f"
             ],
             [
              0.2222222222222222,
              "#7201a8"
             ],
             [
              0.3333333333333333,
              "#9c179e"
             ],
             [
              0.4444444444444444,
              "#bd3786"
             ],
             [
              0.5555555555555556,
              "#d8576b"
             ],
             [
              0.6666666666666666,
              "#ed7953"
             ],
             [
              0.7777777777777778,
              "#fb9f3a"
             ],
             [
              0.8888888888888888,
              "#fdca26"
             ],
             [
              1,
              "#f0f921"
             ]
            ],
            "type": "heatmapgl"
           }
          ],
          "histogram": [
           {
            "marker": {
             "pattern": {
              "fillmode": "overlay",
              "size": 10,
              "solidity": 0.2
             }
            },
            "type": "histogram"
           }
          ],
          "histogram2d": [
           {
            "colorbar": {
             "outlinewidth": 0,
             "ticks": ""
            },
            "colorscale": [
             [
              0,
              "#0d0887"
             ],
             [
              0.1111111111111111,
              "#46039f"
             ],
             [
              0.2222222222222222,
              "#7201a8"
             ],
             [
              0.3333333333333333,
              "#9c179e"
             ],
             [
              0.4444444444444444,
              "#bd3786"
             ],
             [
              0.5555555555555556,
              "#d8576b"
             ],
             [
              0.6666666666666666,
              "#ed7953"
             ],
             [
              0.7777777777777778,
              "#fb9f3a"
             ],
             [
              0.8888888888888888,
              "#fdca26"
             ],
             [
              1,
              "#f0f921"
             ]
            ],
            "type": "histogram2d"
           }
          ],
          "histogram2dcontour": [
           {
            "colorbar": {
             "outlinewidth": 0,
             "ticks": ""
            },
            "colorscale": [
             [
              0,
              "#0d0887"
             ],
             [
              0.1111111111111111,
              "#46039f"
             ],
             [
              0.2222222222222222,
              "#7201a8"
             ],
             [
              0.3333333333333333,
              "#9c179e"
             ],
             [
              0.4444444444444444,
              "#bd3786"
             ],
             [
              0.5555555555555556,
              "#d8576b"
             ],
             [
              0.6666666666666666,
              "#ed7953"
             ],
             [
              0.7777777777777778,
              "#fb9f3a"
             ],
             [
              0.8888888888888888,
              "#fdca26"
             ],
             [
              1,
              "#f0f921"
             ]
            ],
            "type": "histogram2dcontour"
           }
          ],
          "mesh3d": [
           {
            "colorbar": {
             "outlinewidth": 0,
             "ticks": ""
            },
            "type": "mesh3d"
           }
          ],
          "parcoords": [
           {
            "line": {
             "colorbar": {
              "outlinewidth": 0,
              "ticks": ""
             }
            },
            "type": "parcoords"
           }
          ],
          "pie": [
           {
            "automargin": true,
            "type": "pie"
           }
          ],
          "scatter": [
           {
            "fillpattern": {
             "fillmode": "overlay",
             "size": 10,
             "solidity": 0.2
            },
            "type": "scatter"
           }
          ],
          "scatter3d": [
           {
            "line": {
             "colorbar": {
              "outlinewidth": 0,
              "ticks": ""
             }
            },
            "marker": {
             "colorbar": {
              "outlinewidth": 0,
              "ticks": ""
             }
            },
            "type": "scatter3d"
           }
          ],
          "scattercarpet": [
           {
            "marker": {
             "colorbar": {
              "outlinewidth": 0,
              "ticks": ""
             }
            },
            "type": "scattercarpet"
           }
          ],
          "scattergeo": [
           {
            "marker": {
             "colorbar": {
              "outlinewidth": 0,
              "ticks": ""
             }
            },
            "type": "scattergeo"
           }
          ],
          "scattergl": [
           {
            "marker": {
             "colorbar": {
              "outlinewidth": 0,
              "ticks": ""
             }
            },
            "type": "scattergl"
           }
          ],
          "scattermapbox": [
           {
            "marker": {
             "colorbar": {
              "outlinewidth": 0,
              "ticks": ""
             }
            },
            "type": "scattermapbox"
           }
          ],
          "scatterpolar": [
           {
            "marker": {
             "colorbar": {
              "outlinewidth": 0,
              "ticks": ""
             }
            },
            "type": "scatterpolar"
           }
          ],
          "scatterpolargl": [
           {
            "marker": {
             "colorbar": {
              "outlinewidth": 0,
              "ticks": ""
             }
            },
            "type": "scatterpolargl"
           }
          ],
          "scatterternary": [
           {
            "marker": {
             "colorbar": {
              "outlinewidth": 0,
              "ticks": ""
             }
            },
            "type": "scatterternary"
           }
          ],
          "surface": [
           {
            "colorbar": {
             "outlinewidth": 0,
             "ticks": ""
            },
            "colorscale": [
             [
              0,
              "#0d0887"
             ],
             [
              0.1111111111111111,
              "#46039f"
             ],
             [
              0.2222222222222222,
              "#7201a8"
             ],
             [
              0.3333333333333333,
              "#9c179e"
             ],
             [
              0.4444444444444444,
              "#bd3786"
             ],
             [
              0.5555555555555556,
              "#d8576b"
             ],
             [
              0.6666666666666666,
              "#ed7953"
             ],
             [
              0.7777777777777778,
              "#fb9f3a"
             ],
             [
              0.8888888888888888,
              "#fdca26"
             ],
             [
              1,
              "#f0f921"
             ]
            ],
            "type": "surface"
           }
          ],
          "table": [
           {
            "cells": {
             "fill": {
              "color": "#EBF0F8"
             },
             "line": {
              "color": "white"
             }
            },
            "header": {
             "fill": {
              "color": "#C8D4E3"
             },
             "line": {
              "color": "white"
             }
            },
            "type": "table"
           }
          ]
         },
         "layout": {
          "annotationdefaults": {
           "arrowcolor": "#2a3f5f",
           "arrowhead": 0,
           "arrowwidth": 1
          },
          "autotypenumbers": "strict",
          "coloraxis": {
           "colorbar": {
            "outlinewidth": 0,
            "ticks": ""
           }
          },
          "colorscale": {
           "diverging": [
            [
             0,
             "#8e0152"
            ],
            [
             0.1,
             "#c51b7d"
            ],
            [
             0.2,
             "#de77ae"
            ],
            [
             0.3,
             "#f1b6da"
            ],
            [
             0.4,
             "#fde0ef"
            ],
            [
             0.5,
             "#f7f7f7"
            ],
            [
             0.6,
             "#e6f5d0"
            ],
            [
             0.7,
             "#b8e186"
            ],
            [
             0.8,
             "#7fbc41"
            ],
            [
             0.9,
             "#4d9221"
            ],
            [
             1,
             "#276419"
            ]
           ],
           "sequential": [
            [
             0,
             "#0d0887"
            ],
            [
             0.1111111111111111,
             "#46039f"
            ],
            [
             0.2222222222222222,
             "#7201a8"
            ],
            [
             0.3333333333333333,
             "#9c179e"
            ],
            [
             0.4444444444444444,
             "#bd3786"
            ],
            [
             0.5555555555555556,
             "#d8576b"
            ],
            [
             0.6666666666666666,
             "#ed7953"
            ],
            [
             0.7777777777777778,
             "#fb9f3a"
            ],
            [
             0.8888888888888888,
             "#fdca26"
            ],
            [
             1,
             "#f0f921"
            ]
           ],
           "sequentialminus": [
            [
             0,
             "#0d0887"
            ],
            [
             0.1111111111111111,
             "#46039f"
            ],
            [
             0.2222222222222222,
             "#7201a8"
            ],
            [
             0.3333333333333333,
             "#9c179e"
            ],
            [
             0.4444444444444444,
             "#bd3786"
            ],
            [
             0.5555555555555556,
             "#d8576b"
            ],
            [
             0.6666666666666666,
             "#ed7953"
            ],
            [
             0.7777777777777778,
             "#fb9f3a"
            ],
            [
             0.8888888888888888,
             "#fdca26"
            ],
            [
             1,
             "#f0f921"
            ]
           ]
          },
          "colorway": [
           "#636efa",
           "#EF553B",
           "#00cc96",
           "#ab63fa",
           "#FFA15A",
           "#19d3f3",
           "#FF6692",
           "#B6E880",
           "#FF97FF",
           "#FECB52"
          ],
          "font": {
           "color": "#2a3f5f"
          },
          "geo": {
           "bgcolor": "white",
           "lakecolor": "white",
           "landcolor": "#E5ECF6",
           "showlakes": true,
           "showland": true,
           "subunitcolor": "white"
          },
          "hoverlabel": {
           "align": "left"
          },
          "hovermode": "closest",
          "mapbox": {
           "style": "light"
          },
          "paper_bgcolor": "white",
          "plot_bgcolor": "#E5ECF6",
          "polar": {
           "angularaxis": {
            "gridcolor": "white",
            "linecolor": "white",
            "ticks": ""
           },
           "bgcolor": "#E5ECF6",
           "radialaxis": {
            "gridcolor": "white",
            "linecolor": "white",
            "ticks": ""
           }
          },
          "scene": {
           "xaxis": {
            "backgroundcolor": "#E5ECF6",
            "gridcolor": "white",
            "gridwidth": 2,
            "linecolor": "white",
            "showbackground": true,
            "ticks": "",
            "zerolinecolor": "white"
           },
           "yaxis": {
            "backgroundcolor": "#E5ECF6",
            "gridcolor": "white",
            "gridwidth": 2,
            "linecolor": "white",
            "showbackground": true,
            "ticks": "",
            "zerolinecolor": "white"
           },
           "zaxis": {
            "backgroundcolor": "#E5ECF6",
            "gridcolor": "white",
            "gridwidth": 2,
            "linecolor": "white",
            "showbackground": true,
            "ticks": "",
            "zerolinecolor": "white"
           }
          },
          "shapedefaults": {
           "line": {
            "color": "#2a3f5f"
           }
          },
          "ternary": {
           "aaxis": {
            "gridcolor": "white",
            "linecolor": "white",
            "ticks": ""
           },
           "baxis": {
            "gridcolor": "white",
            "linecolor": "white",
            "ticks": ""
           },
           "bgcolor": "#E5ECF6",
           "caxis": {
            "gridcolor": "white",
            "linecolor": "white",
            "ticks": ""
           }
          },
          "title": {
           "x": 0.05
          },
          "xaxis": {
           "automargin": true,
           "gridcolor": "white",
           "linecolor": "white",
           "ticks": "",
           "title": {
            "standoff": 15
           },
           "zerolinecolor": "white",
           "zerolinewidth": 2
          },
          "yaxis": {
           "automargin": true,
           "gridcolor": "white",
           "linecolor": "white",
           "ticks": "",
           "title": {
            "standoff": 15
           },
           "zerolinecolor": "white",
           "zerolinewidth": 2
          }
         }
        },
        "width": 1100,
        "xaxis": {
         "tickvals": []
        },
        "yaxis": {
         "range": [
          0,
          60
         ],
         "title": {
          "text": "Consumo (%)"
         }
        }
       }
      }
     },
     "metadata": {},
     "output_type": "display_data"
    }
   ],
   "source": [
    "gen_locs = (\n",
    "    df_refri_total.loc[df_refri_total['ano']==2009],\n",
    "    df_refri_total.loc[df_refri_total['ano']==2019],\n",
    "    df_refri_sexo.loc[df_refri_sexo['sexo']=='Masculino'],\n",
    "    df_refri_sexo.loc[df_refri_sexo['sexo']=='Feminino'],\n",
    "    df_refri_admin.loc[df_refri_admin['administracao']=='Pública'],\n",
    "    df_refri_admin.loc[df_refri_admin['administracao']=='Privada'],\n",
    "    df_gulo_total,\n",
    "    df_legum_total\n",
    ")\n",
    "\n",
    "gen_labels = (\n",
    "    'Refrigerante: Total em 2009',\n",
    "    'Refrigerante: Total em 2019',\n",
    "    'Refrigerante: Público Masculino em 2019',\n",
    "    'Refrigerante: Público Feminino em 2019',\n",
    "    'Refrigerante: Administração Pública em 2019',\n",
    "    'Refrigerante: Administração Privada em 2019',\n",
    "    'Guloseimas: Total em 2019',\n",
    "    'Legumes: Total em 2019'\n",
    ")\n",
    "\n",
    "plot_distributions(gen_locs, gen_labels)"
   ]
  },
  {
   "cell_type": "code",
   "execution_count": null,
   "metadata": {},
   "outputs": [],
   "source": []
  },
  {
   "cell_type": "code",
   "execution_count": null,
   "metadata": {},
   "outputs": [],
   "source": []
  },
  {
   "cell_type": "code",
   "execution_count": null,
   "metadata": {},
   "outputs": [],
   "source": []
  },
  {
   "cell_type": "markdown",
   "metadata": {},
   "source": [
    "### Parte 2: Testes de hipótese"
   ]
  },
  {
   "cell_type": "code",
   "execution_count": 72,
   "metadata": {},
   "outputs": [],
   "source": [
    "def teste_fsnedecor_tstudent(a, b, alpha=0.05):\n",
    "\n",
    "    print('Teste de F Snedecor:')\n",
    "    \n",
    "    f_var = a.var()/b.var() if a.var()>b.var() else b.var()/a.var()\n",
    "    variancia_pval = 1 - stats.f.cdf(f_var, a.size-1, b.size-1)\n",
    "    \n",
    "    if alpha < variancia_pval:\n",
    "        homocedastico = True\n",
    "        \n",
    "        print('\\tNão há evidências para rejeitar a hipótese nula (p-val: {:.2f}).'.format(variancia_pval))\n",
    "        print('\\tNão é possível afirmar que as variâncias são diferentes. Logo, o teste de comparação de médias deve ser homocedástico.')\n",
    "    \n",
    "    else:\n",
    "        homocedastico = False\n",
    "        \n",
    "        print('\\tHá evidências para rejeitar a hipótese nula (p-val: {:.2f}).'.format(variancia_pval))\n",
    "        print('\\tÉ possível afirmar que as variâncias são diferentes. Logo, o teste de comparação de médias deve ser heterocedástico.')\n",
    "\n",
    "    print('\\nTeste de T Student:')\n",
    "    \n",
    "    media_pval = stats.ttest_ind(a, b, equal_var=homocedastico).pvalue\n",
    "    \n",
    "    if alpha < media_pval:\n",
    "        print('\\tNão há evidências para rejeitar a hipótese nula (p-val: {:.2f}).'.format(media_pval))\n",
    "        print('\\tNão é possível afirmar que as médias são diferentes.')\n",
    "    \n",
    "    else:\n",
    "        print('\\tHá evidências para rejeitar a hipótese nula (p-val: {:.2f}).'.format(media_pval))\n",
    "        print('\\tÉ possível afirmar que as médias são diferentes.')"
   ]
  },
  {
   "cell_type": "code",
   "execution_count": null,
   "metadata": {},
   "outputs": [],
   "source": []
  },
  {
   "cell_type": "markdown",
   "metadata": {},
   "source": [
    "#### Parte 2.1: Comparação entre refrigerante total 2009 e refrigerante total 2019"
   ]
  },
  {
   "cell_type": "code",
   "execution_count": 73,
   "metadata": {},
   "outputs": [
    {
     "name": "stdout",
     "output_type": "stream",
     "text": [
      "Teste de F Snedecor:\n",
      "\tNão há evidências para rejeitar a hipótese nula (p-val: 0.06).\n",
      "\tNão é possível afirmar que as variâncias são diferentes. Logo, o teste de comparação de médias deve ser homocedástico.\n",
      "\n",
      "Teste de T Student:\n",
      "\tHá evidências para rejeitar a hipótese nula (p-val: 0.00).\n",
      "\tÉ possível afirmar que as médias são diferentes.\n"
     ]
    }
   ],
   "source": [
    "a     = df_refri_total.loc[df_refri_total['ano']==2009]['percentual'].reset_index(drop=True)\n",
    "b     = df_refri_total.loc[df_refri_total['ano']==2019]['percentual'].reset_index(drop=True)\n",
    "teste_fsnedecor_tstudent(a, b, alpha=0.05)"
   ]
  },
  {
   "cell_type": "code",
   "execution_count": null,
   "metadata": {},
   "outputs": [],
   "source": []
  },
  {
   "cell_type": "markdown",
   "metadata": {},
   "source": [
    "#### Parte 2.2: Comparação entre refrigerante masculino 2009 e refrigerante feminino 2019"
   ]
  },
  {
   "cell_type": "code",
   "execution_count": 74,
   "metadata": {},
   "outputs": [
    {
     "name": "stdout",
     "output_type": "stream",
     "text": [
      "Teste de F Snedecor:\n",
      "\tNão há evidências para rejeitar a hipótese nula (p-val: 0.45).\n",
      "\tNão é possível afirmar que as variâncias são diferentes. Logo, o teste de comparação de médias deve ser homocedástico.\n",
      "\n",
      "Teste de T Student:\n",
      "\tNão há evidências para rejeitar a hipótese nula (p-val: 0.40).\n",
      "\tNão é possível afirmar que as médias são diferentes.\n"
     ]
    }
   ],
   "source": [
    "a     = df_refri_sexo.loc[df_refri_sexo['sexo']=='Masculino']['percentual'].reset_index(drop=True)\n",
    "b     = df_refri_sexo.loc[df_refri_sexo['sexo']=='Feminino']['percentual'].reset_index(drop=True)\n",
    "teste_fsnedecor_tstudent(a, b, alpha=0.05)"
   ]
  },
  {
   "cell_type": "code",
   "execution_count": null,
   "metadata": {},
   "outputs": [],
   "source": []
  },
  {
   "cell_type": "markdown",
   "metadata": {},
   "source": [
    "#### Parte 2.3: Comparação entre refrigerante pública 2019 e refrigerante privada 2019"
   ]
  },
  {
   "cell_type": "code",
   "execution_count": 75,
   "metadata": {},
   "outputs": [
    {
     "name": "stdout",
     "output_type": "stream",
     "text": [
      "Teste de F Snedecor:\n",
      "\tNão há evidências para rejeitar a hipótese nula (p-val: 0.40).\n",
      "\tNão é possível afirmar que as variâncias são diferentes. Logo, o teste de comparação de médias deve ser homocedástico.\n",
      "\n",
      "Teste de T Student:\n",
      "\tHá evidências para rejeitar a hipótese nula (p-val: 0.02).\n",
      "\tÉ possível afirmar que as médias são diferentes.\n"
     ]
    }
   ],
   "source": [
    "a     = df_refri_admin.loc[df_refri_admin['administracao']=='Pública']['percentual'].reset_index(drop=True)\n",
    "b     = df_refri_admin.loc[df_refri_admin['administracao']=='Privada']['percentual'].reset_index(drop=True)\n",
    "teste_fsnedecor_tstudent(a, b, alpha=0.05)"
   ]
  },
  {
   "cell_type": "code",
   "execution_count": null,
   "metadata": {},
   "outputs": [],
   "source": []
  },
  {
   "cell_type": "code",
   "execution_count": null,
   "metadata": {},
   "outputs": [],
   "source": []
  },
  {
   "cell_type": "code",
   "execution_count": null,
   "metadata": {},
   "outputs": [],
   "source": []
  },
  {
   "cell_type": "markdown",
   "metadata": {},
   "source": [
    "### Parte 3: Correlação entre consumo de refrigerante, guloseimas e legumes"
   ]
  },
  {
   "cell_type": "code",
   "execution_count": 76,
   "metadata": {},
   "outputs": [
    {
     "data": {
      "text/plain": [
       "0.43261258562841437"
      ]
     },
     "execution_count": 76,
     "metadata": {},
     "output_type": "execute_result"
    }
   ],
   "source": [
    "stats.pearsonr(\n",
    "    df_refri_total.loc[df_refri_total['ano']==2019]['percentual'],\n",
    "    df_gulo_total['percentual']\n",
    ").statistic"
   ]
  },
  {
   "cell_type": "code",
   "execution_count": 77,
   "metadata": {},
   "outputs": [
    {
     "data": {
      "text/plain": [
       "0.23549838361681327"
      ]
     },
     "execution_count": 77,
     "metadata": {},
     "output_type": "execute_result"
    }
   ],
   "source": [
    "stats.pearsonr(\n",
    "    df_refri_total.loc[df_refri_total['ano']==2019]['percentual'],\n",
    "    df_legum_total['percentual']\n",
    ").statistic"
   ]
  },
  {
   "cell_type": "code",
   "execution_count": 78,
   "metadata": {},
   "outputs": [
    {
     "data": {
      "text/plain": [
       "0.11995849134364218"
      ]
     },
     "execution_count": 78,
     "metadata": {},
     "output_type": "execute_result"
    }
   ],
   "source": [
    "stats.pearsonr(\n",
    "    df_gulo_total['percentual'],\n",
    "    df_legum_total['percentual']\n",
    ").statistic"
   ]
  },
  {
   "cell_type": "code",
   "execution_count": 79,
   "metadata": {},
   "outputs": [
    {
     "data": {
      "application/vnd.plotly.v1+json": {
       "config": {
        "plotlyServerURL": "https://plot.ly"
       },
       "data": [
        {
         "mode": "lines+markers",
         "name": "Refrigerante: Total em 2019",
         "type": "scatter",
         "x": [
          "Porto Velho",
          "Rio Branco",
          "Manaus",
          "Boa Vista",
          "Belém",
          "Macapá",
          "Palmas",
          "São Luís",
          "Teresina",
          "Fortaleza",
          "Natal",
          "João Pessoa",
          "Recife",
          "Maceió",
          "Aracaju",
          "Salvador",
          "Belo Horizonte",
          "Vitória",
          "Rio de Janeiro",
          "São Paulo",
          "Curitiba",
          "Florianópolis",
          "Porto Alegre",
          "Campo Grande",
          "Cuiabá",
          "Goiânia",
          "Brasília"
         ],
         "y": [
          19.8375945644766,
          17.282897287041,
          16.5477418646986,
          20.6975458310524,
          15.9062716555132,
          15.4621001985118,
          20.0549296246163,
          14.5411243808696,
          12.1778497613595,
          20.0538865811066,
          12.6204250750863,
          12.7720732522962,
          23.5547088613518,
          18.5834916722248,
          13.0809746537314,
          13.0658954621173,
          18.6159634892487,
          14.5215636841703,
          20.4093227297813,
          20.765235672307,
          17.3242717538775,
          15.4011014385322,
          22.8199720310619,
          25.3032169248689,
          22.3571171006843,
          25.9166775340013,
          18.835700723621
         ]
        },
        {
         "mode": "lines+markers",
         "name": "Guloseimas: Total em 2019",
         "type": "scatter",
         "x": [
          "Porto Velho",
          "Rio Branco",
          "Manaus",
          "Boa Vista",
          "Belém",
          "Macapá",
          "Palmas",
          "São Luís",
          "Teresina",
          "Fortaleza",
          "Natal",
          "João Pessoa",
          "Recife",
          "Maceió",
          "Aracaju",
          "Salvador",
          "Belo Horizonte",
          "Vitória",
          "Rio de Janeiro",
          "São Paulo",
          "Curitiba",
          "Florianópolis",
          "Porto Alegre",
          "Campo Grande",
          "Cuiabá",
          "Goiânia",
          "Brasília"
         ],
         "y": [
          31.9854078855567,
          42.9400058766549,
          35.3902161031927,
          32.0864740550787,
          29.4816900306819,
          29.5575165023494,
          32.5681793013733,
          27.6057914878872,
          29.8418336021827,
          36.0213918071175,
          35.8257968268802,
          31.1613398455614,
          37.0591330766296,
          38.7614390284701,
          33.8381855710683,
          31.3087443407046,
          34.2596666243531,
          28.7368999641006,
          30.0030725564579,
          43.0126908952489,
          34.5295075598554,
          33.2925467728243,
          27.2561694498207,
          42.4474960249496,
          35.0816578692295,
          39.2985047522164,
          40.454019104299
         ]
        },
        {
         "mode": "lines+markers",
         "name": "Legumes: Total em 2019",
         "type": "scatter",
         "x": [
          "Porto Velho",
          "Rio Branco",
          "Manaus",
          "Boa Vista",
          "Belém",
          "Macapá",
          "Palmas",
          "São Luís",
          "Teresina",
          "Fortaleza",
          "Natal",
          "João Pessoa",
          "Recife",
          "Maceió",
          "Aracaju",
          "Salvador",
          "Belo Horizonte",
          "Vitória",
          "Rio de Janeiro",
          "São Paulo",
          "Curitiba",
          "Florianópolis",
          "Porto Alegre",
          "Campo Grande",
          "Cuiabá",
          "Goiânia",
          "Brasília"
         ],
         "y": [
          29.9065299043489,
          25.6623537887046,
          33.9372939898697,
          34.344741396955,
          19.222291313521,
          32.9319736208338,
          29.1422616258485,
          24.3182939762688,
          33.3019943362592,
          21.3337128179276,
          28.3118020549096,
          26.1397645304395,
          23.7897663778745,
          29.0156978457914,
          28.6657288043979,
          19.2031115866902,
          43.981325656047,
          34.4893329460489,
          26.5049690869816,
          31.2428819247536,
          32.3539387279087,
          32.0222994113499,
          31.0636672181416,
          31.6142661301337,
          34.1231654177834,
          37.0894312812119,
          31.6765177719064
         ]
        }
       ],
       "layout": {
        "height": 500,
        "template": {
         "data": {
          "bar": [
           {
            "error_x": {
             "color": "#2a3f5f"
            },
            "error_y": {
             "color": "#2a3f5f"
            },
            "marker": {
             "line": {
              "color": "#E5ECF6",
              "width": 0.5
             },
             "pattern": {
              "fillmode": "overlay",
              "size": 10,
              "solidity": 0.2
             }
            },
            "type": "bar"
           }
          ],
          "barpolar": [
           {
            "marker": {
             "line": {
              "color": "#E5ECF6",
              "width": 0.5
             },
             "pattern": {
              "fillmode": "overlay",
              "size": 10,
              "solidity": 0.2
             }
            },
            "type": "barpolar"
           }
          ],
          "carpet": [
           {
            "aaxis": {
             "endlinecolor": "#2a3f5f",
             "gridcolor": "white",
             "linecolor": "white",
             "minorgridcolor": "white",
             "startlinecolor": "#2a3f5f"
            },
            "baxis": {
             "endlinecolor": "#2a3f5f",
             "gridcolor": "white",
             "linecolor": "white",
             "minorgridcolor": "white",
             "startlinecolor": "#2a3f5f"
            },
            "type": "carpet"
           }
          ],
          "choropleth": [
           {
            "colorbar": {
             "outlinewidth": 0,
             "ticks": ""
            },
            "type": "choropleth"
           }
          ],
          "contour": [
           {
            "colorbar": {
             "outlinewidth": 0,
             "ticks": ""
            },
            "colorscale": [
             [
              0,
              "#0d0887"
             ],
             [
              0.1111111111111111,
              "#46039f"
             ],
             [
              0.2222222222222222,
              "#7201a8"
             ],
             [
              0.3333333333333333,
              "#9c179e"
             ],
             [
              0.4444444444444444,
              "#bd3786"
             ],
             [
              0.5555555555555556,
              "#d8576b"
             ],
             [
              0.6666666666666666,
              "#ed7953"
             ],
             [
              0.7777777777777778,
              "#fb9f3a"
             ],
             [
              0.8888888888888888,
              "#fdca26"
             ],
             [
              1,
              "#f0f921"
             ]
            ],
            "type": "contour"
           }
          ],
          "contourcarpet": [
           {
            "colorbar": {
             "outlinewidth": 0,
             "ticks": ""
            },
            "type": "contourcarpet"
           }
          ],
          "heatmap": [
           {
            "colorbar": {
             "outlinewidth": 0,
             "ticks": ""
            },
            "colorscale": [
             [
              0,
              "#0d0887"
             ],
             [
              0.1111111111111111,
              "#46039f"
             ],
             [
              0.2222222222222222,
              "#7201a8"
             ],
             [
              0.3333333333333333,
              "#9c179e"
             ],
             [
              0.4444444444444444,
              "#bd3786"
             ],
             [
              0.5555555555555556,
              "#d8576b"
             ],
             [
              0.6666666666666666,
              "#ed7953"
             ],
             [
              0.7777777777777778,
              "#fb9f3a"
             ],
             [
              0.8888888888888888,
              "#fdca26"
             ],
             [
              1,
              "#f0f921"
             ]
            ],
            "type": "heatmap"
           }
          ],
          "heatmapgl": [
           {
            "colorbar": {
             "outlinewidth": 0,
             "ticks": ""
            },
            "colorscale": [
             [
              0,
              "#0d0887"
             ],
             [
              0.1111111111111111,
              "#46039f"
             ],
             [
              0.2222222222222222,
              "#7201a8"
             ],
             [
              0.3333333333333333,
              "#9c179e"
             ],
             [
              0.4444444444444444,
              "#bd3786"
             ],
             [
              0.5555555555555556,
              "#d8576b"
             ],
             [
              0.6666666666666666,
              "#ed7953"
             ],
             [
              0.7777777777777778,
              "#fb9f3a"
             ],
             [
              0.8888888888888888,
              "#fdca26"
             ],
             [
              1,
              "#f0f921"
             ]
            ],
            "type": "heatmapgl"
           }
          ],
          "histogram": [
           {
            "marker": {
             "pattern": {
              "fillmode": "overlay",
              "size": 10,
              "solidity": 0.2
             }
            },
            "type": "histogram"
           }
          ],
          "histogram2d": [
           {
            "colorbar": {
             "outlinewidth": 0,
             "ticks": ""
            },
            "colorscale": [
             [
              0,
              "#0d0887"
             ],
             [
              0.1111111111111111,
              "#46039f"
             ],
             [
              0.2222222222222222,
              "#7201a8"
             ],
             [
              0.3333333333333333,
              "#9c179e"
             ],
             [
              0.4444444444444444,
              "#bd3786"
             ],
             [
              0.5555555555555556,
              "#d8576b"
             ],
             [
              0.6666666666666666,
              "#ed7953"
             ],
             [
              0.7777777777777778,
              "#fb9f3a"
             ],
             [
              0.8888888888888888,
              "#fdca26"
             ],
             [
              1,
              "#f0f921"
             ]
            ],
            "type": "histogram2d"
           }
          ],
          "histogram2dcontour": [
           {
            "colorbar": {
             "outlinewidth": 0,
             "ticks": ""
            },
            "colorscale": [
             [
              0,
              "#0d0887"
             ],
             [
              0.1111111111111111,
              "#46039f"
             ],
             [
              0.2222222222222222,
              "#7201a8"
             ],
             [
              0.3333333333333333,
              "#9c179e"
             ],
             [
              0.4444444444444444,
              "#bd3786"
             ],
             [
              0.5555555555555556,
              "#d8576b"
             ],
             [
              0.6666666666666666,
              "#ed7953"
             ],
             [
              0.7777777777777778,
              "#fb9f3a"
             ],
             [
              0.8888888888888888,
              "#fdca26"
             ],
             [
              1,
              "#f0f921"
             ]
            ],
            "type": "histogram2dcontour"
           }
          ],
          "mesh3d": [
           {
            "colorbar": {
             "outlinewidth": 0,
             "ticks": ""
            },
            "type": "mesh3d"
           }
          ],
          "parcoords": [
           {
            "line": {
             "colorbar": {
              "outlinewidth": 0,
              "ticks": ""
             }
            },
            "type": "parcoords"
           }
          ],
          "pie": [
           {
            "automargin": true,
            "type": "pie"
           }
          ],
          "scatter": [
           {
            "fillpattern": {
             "fillmode": "overlay",
             "size": 10,
             "solidity": 0.2
            },
            "type": "scatter"
           }
          ],
          "scatter3d": [
           {
            "line": {
             "colorbar": {
              "outlinewidth": 0,
              "ticks": ""
             }
            },
            "marker": {
             "colorbar": {
              "outlinewidth": 0,
              "ticks": ""
             }
            },
            "type": "scatter3d"
           }
          ],
          "scattercarpet": [
           {
            "marker": {
             "colorbar": {
              "outlinewidth": 0,
              "ticks": ""
             }
            },
            "type": "scattercarpet"
           }
          ],
          "scattergeo": [
           {
            "marker": {
             "colorbar": {
              "outlinewidth": 0,
              "ticks": ""
             }
            },
            "type": "scattergeo"
           }
          ],
          "scattergl": [
           {
            "marker": {
             "colorbar": {
              "outlinewidth": 0,
              "ticks": ""
             }
            },
            "type": "scattergl"
           }
          ],
          "scattermapbox": [
           {
            "marker": {
             "colorbar": {
              "outlinewidth": 0,
              "ticks": ""
             }
            },
            "type": "scattermapbox"
           }
          ],
          "scatterpolar": [
           {
            "marker": {
             "colorbar": {
              "outlinewidth": 0,
              "ticks": ""
             }
            },
            "type": "scatterpolar"
           }
          ],
          "scatterpolargl": [
           {
            "marker": {
             "colorbar": {
              "outlinewidth": 0,
              "ticks": ""
             }
            },
            "type": "scatterpolargl"
           }
          ],
          "scatterternary": [
           {
            "marker": {
             "colorbar": {
              "outlinewidth": 0,
              "ticks": ""
             }
            },
            "type": "scatterternary"
           }
          ],
          "surface": [
           {
            "colorbar": {
             "outlinewidth": 0,
             "ticks": ""
            },
            "colorscale": [
             [
              0,
              "#0d0887"
             ],
             [
              0.1111111111111111,
              "#46039f"
             ],
             [
              0.2222222222222222,
              "#7201a8"
             ],
             [
              0.3333333333333333,
              "#9c179e"
             ],
             [
              0.4444444444444444,
              "#bd3786"
             ],
             [
              0.5555555555555556,
              "#d8576b"
             ],
             [
              0.6666666666666666,
              "#ed7953"
             ],
             [
              0.7777777777777778,
              "#fb9f3a"
             ],
             [
              0.8888888888888888,
              "#fdca26"
             ],
             [
              1,
              "#f0f921"
             ]
            ],
            "type": "surface"
           }
          ],
          "table": [
           {
            "cells": {
             "fill": {
              "color": "#EBF0F8"
             },
             "line": {
              "color": "white"
             }
            },
            "header": {
             "fill": {
              "color": "#C8D4E3"
             },
             "line": {
              "color": "white"
             }
            },
            "type": "table"
           }
          ]
         },
         "layout": {
          "annotationdefaults": {
           "arrowcolor": "#2a3f5f",
           "arrowhead": 0,
           "arrowwidth": 1
          },
          "autotypenumbers": "strict",
          "coloraxis": {
           "colorbar": {
            "outlinewidth": 0,
            "ticks": ""
           }
          },
          "colorscale": {
           "diverging": [
            [
             0,
             "#8e0152"
            ],
            [
             0.1,
             "#c51b7d"
            ],
            [
             0.2,
             "#de77ae"
            ],
            [
             0.3,
             "#f1b6da"
            ],
            [
             0.4,
             "#fde0ef"
            ],
            [
             0.5,
             "#f7f7f7"
            ],
            [
             0.6,
             "#e6f5d0"
            ],
            [
             0.7,
             "#b8e186"
            ],
            [
             0.8,
             "#7fbc41"
            ],
            [
             0.9,
             "#4d9221"
            ],
            [
             1,
             "#276419"
            ]
           ],
           "sequential": [
            [
             0,
             "#0d0887"
            ],
            [
             0.1111111111111111,
             "#46039f"
            ],
            [
             0.2222222222222222,
             "#7201a8"
            ],
            [
             0.3333333333333333,
             "#9c179e"
            ],
            [
             0.4444444444444444,
             "#bd3786"
            ],
            [
             0.5555555555555556,
             "#d8576b"
            ],
            [
             0.6666666666666666,
             "#ed7953"
            ],
            [
             0.7777777777777778,
             "#fb9f3a"
            ],
            [
             0.8888888888888888,
             "#fdca26"
            ],
            [
             1,
             "#f0f921"
            ]
           ],
           "sequentialminus": [
            [
             0,
             "#0d0887"
            ],
            [
             0.1111111111111111,
             "#46039f"
            ],
            [
             0.2222222222222222,
             "#7201a8"
            ],
            [
             0.3333333333333333,
             "#9c179e"
            ],
            [
             0.4444444444444444,
             "#bd3786"
            ],
            [
             0.5555555555555556,
             "#d8576b"
            ],
            [
             0.6666666666666666,
             "#ed7953"
            ],
            [
             0.7777777777777778,
             "#fb9f3a"
            ],
            [
             0.8888888888888888,
             "#fdca26"
            ],
            [
             1,
             "#f0f921"
            ]
           ]
          },
          "colorway": [
           "#636efa",
           "#EF553B",
           "#00cc96",
           "#ab63fa",
           "#FFA15A",
           "#19d3f3",
           "#FF6692",
           "#B6E880",
           "#FF97FF",
           "#FECB52"
          ],
          "font": {
           "color": "#2a3f5f"
          },
          "geo": {
           "bgcolor": "white",
           "lakecolor": "white",
           "landcolor": "#E5ECF6",
           "showlakes": true,
           "showland": true,
           "subunitcolor": "white"
          },
          "hoverlabel": {
           "align": "left"
          },
          "hovermode": "closest",
          "mapbox": {
           "style": "light"
          },
          "paper_bgcolor": "white",
          "plot_bgcolor": "#E5ECF6",
          "polar": {
           "angularaxis": {
            "gridcolor": "white",
            "linecolor": "white",
            "ticks": ""
           },
           "bgcolor": "#E5ECF6",
           "radialaxis": {
            "gridcolor": "white",
            "linecolor": "white",
            "ticks": ""
           }
          },
          "scene": {
           "xaxis": {
            "backgroundcolor": "#E5ECF6",
            "gridcolor": "white",
            "gridwidth": 2,
            "linecolor": "white",
            "showbackground": true,
            "ticks": "",
            "zerolinecolor": "white"
           },
           "yaxis": {
            "backgroundcolor": "#E5ECF6",
            "gridcolor": "white",
            "gridwidth": 2,
            "linecolor": "white",
            "showbackground": true,
            "ticks": "",
            "zerolinecolor": "white"
           },
           "zaxis": {
            "backgroundcolor": "#E5ECF6",
            "gridcolor": "white",
            "gridwidth": 2,
            "linecolor": "white",
            "showbackground": true,
            "ticks": "",
            "zerolinecolor": "white"
           }
          },
          "shapedefaults": {
           "line": {
            "color": "#2a3f5f"
           }
          },
          "ternary": {
           "aaxis": {
            "gridcolor": "white",
            "linecolor": "white",
            "ticks": ""
           },
           "baxis": {
            "gridcolor": "white",
            "linecolor": "white",
            "ticks": ""
           },
           "bgcolor": "#E5ECF6",
           "caxis": {
            "gridcolor": "white",
            "linecolor": "white",
            "ticks": ""
           }
          },
          "title": {
           "x": 0.05
          },
          "xaxis": {
           "automargin": true,
           "gridcolor": "white",
           "linecolor": "white",
           "ticks": "",
           "title": {
            "standoff": 15
           },
           "zerolinecolor": "white",
           "zerolinewidth": 2
          },
          "yaxis": {
           "automargin": true,
           "gridcolor": "white",
           "linecolor": "white",
           "ticks": "",
           "title": {
            "standoff": 15
           },
           "zerolinecolor": "white",
           "zerolinewidth": 2
          }
         }
        },
        "width": 1200,
        "yaxis": {
         "range": [
          0,
          50
         ],
         "title": {
          "text": "Consumo (%)"
         }
        }
       }
      }
     },
     "metadata": {},
     "output_type": "display_data"
    }
   ],
   "source": [
    "fig = go.Figure()\n",
    "\n",
    "fig.add_scatter(\n",
    "    x    = df_refri_total.loc[df_refri_total['ano']==2019]['capital'],\n",
    "    y    = df_refri_total.loc[df_refri_total['ano']==2019]['percentual'],\n",
    "    name = 'Refrigerante: Total em 2019',\n",
    "    mode = 'lines+markers'\n",
    ")\n",
    "\n",
    "fig.add_scatter(\n",
    "    x    = df_gulo_total['capital'],\n",
    "    y    = df_gulo_total['percentual'],\n",
    "    name = 'Guloseimas: Total em 2019',\n",
    "    mode = 'lines+markers'\n",
    ")\n",
    "\n",
    "fig.add_scatter(\n",
    "    x    = df_legum_total['capital'],\n",
    "    y    = df_legum_total['percentual'],\n",
    "    name = 'Legumes: Total em 2019',\n",
    "    mode = 'lines+markers'\n",
    ")\n",
    "\n",
    "fig.update_layout(\n",
    "    width       = 1200,\n",
    "    height      = 500,\n",
    "    yaxis_title = 'Consumo (%)',\n",
    "    yaxis       = dict(range=[0, 50])\n",
    ")\n",
    "\n",
    "fig.write_image('results/correlations.pdf', engine='kaleido')\n",
    "fig.show()"
   ]
  },
  {
   "cell_type": "code",
   "execution_count": null,
   "metadata": {},
   "outputs": [],
   "source": []
  }
 ],
 "metadata": {
  "kernelspec": {
   "display_name": "Python 3.10.13 ('venv_iie')",
   "language": "python",
   "name": "python3"
  },
  "language_info": {
   "codemirror_mode": {
    "name": "ipython",
    "version": 3
   },
   "file_extension": ".py",
   "mimetype": "text/x-python",
   "name": "python",
   "nbconvert_exporter": "python",
   "pygments_lexer": "ipython3",
   "version": "3.10.13"
  },
  "orig_nbformat": 4,
  "vscode": {
   "interpreter": {
    "hash": "07e454bcdd768317aab80d683caa44349c42804dbfa3d28c8b26dd885f130581"
   }
  }
 },
 "nbformat": 4,
 "nbformat_minor": 2
}
